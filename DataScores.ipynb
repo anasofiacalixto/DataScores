{
  "nbformat": 4,
  "nbformat_minor": 0,
  "metadata": {
    "colab": {
      "provenance": []
    },
    "kernelspec": {
      "name": "python3",
      "display_name": "Python 3"
    },
    "language_info": {
      "name": "python"
    }
  },
  "cells": [
    {
      "cell_type": "markdown",
      "source": [
        "# Generating choreographic scores with InstructPix2Pix and Imaginairy\n",
        "\n",
        "This notebook shows the process of using the InstructPix2Pix model with the Imaginairy package to edit images based on textual prompts. We'll go through the installation, image editing, and troubleshooting steps.\n"
      ],
      "metadata": {
        "id": "Dc92uC1tLhmA"
      }
    },
    {
      "cell_type": "markdown",
      "source": [
        "## Requirements\n",
        "\n",
        "- Python 3.6+\n",
        "- PyTorch\n",
        "- NumPy"
      ],
      "metadata": {
        "id": "cXoSoQJpUk29"
      }
    },
    {
      "cell_type": "markdown",
      "source": [
        "## Usage\n",
        "\n",
        "1. **Clone the original repository by Timothy Brooks:**"
      ],
      "metadata": {
        "id": "aMbwV5bSUpgE"
      }
    },
    {
      "cell_type": "code",
      "source": [
        "git clone https://github.com/timothybrooks/instruct-pix2pix.git"
      ],
      "metadata": {
        "id": "rgpT5HveUydK"
      },
      "execution_count": null,
      "outputs": []
    },
    {
      "cell_type": "markdown",
      "source": [
        "2. **Install Dependencies:**\n"
      ],
      "metadata": {
        "id": "M6l40LoNU0Po"
      }
    },
    {
      "cell_type": "code",
      "source": [
        "conda env create -f environment.yaml\n",
        "conda activate ip2p\n",
        "bash scripts/download_checkpoints.sh"
      ],
      "metadata": {
        "id": "Fn8746A2U15z"
      },
      "execution_count": null,
      "outputs": []
    },
    {
      "cell_type": "markdown",
      "source": [
        "## Installation\n",
        "\n",
        "First, we need to install the necessary packages. Check if you have Imaginairy installed."
      ],
      "metadata": {
        "id": "jFV_ro3vLl5G"
      }
    },
    {
      "cell_type": "code",
      "source": [
        "# Install Imaginairy\n",
        "!pip install imaginairy --upgrade\n"
      ],
      "metadata": {
        "id": "0nrwP_QFLsWC"
      },
      "execution_count": null,
      "outputs": []
    },
    {
      "cell_type": "markdown",
      "source": [
        "## Setup of the environment\n",
        "\n",
        "Now, we verify which version of Imaginairy and if it's ready to use.\n"
      ],
      "metadata": {
        "id": "MMTtzboMLxY3"
      }
    },
    {
      "cell_type": "code",
      "source": [
        "# Importing necessary libraries\n",
        "import imaginairy\n",
        "print(\"Imaginairy version:\", imaginairy.__version__)\n"
      ],
      "metadata": {
        "id": "SL3DdfMHL3OK"
      },
      "execution_count": null,
      "outputs": []
    },
    {
      "cell_type": "markdown",
      "source": [
        "## Process of creation of scores\n",
        "\n",
        "We will perform image editing using Imaginairy's `aimg` command. The following example demonstrates how to edit an image with a given prompt and save the results as a GIF.\n"
      ],
      "metadata": {
        "id": "GYu2hItIM0Qe"
      }
    },
    {
      "cell_type": "code",
      "source": [
        "# Sample command to edit an image\n",
        "!aimg edit \"path/to/my/image.jpg\" --gif --prompt \"turn him into a cyborg\"\n"
      ],
      "metadata": {
        "id": "TzZ_nMBJL9yu"
      },
      "execution_count": null,
      "outputs": []
    },
    {
      "cell_type": "markdown",
      "source": [
        "### In detail\n",
        "\n",
        "1. **Creating a Dataset**:\n",
        "    - I created a dataset for input images using my own pictures.\n",
        "\n",
        "2. **Running the Model**:\n",
        "    - My own image (A) was run through the pre-trained model with a specific prompt based on a book.\n",
        "    - This process generated an output image (B) and a GIF of the editing process (C).\n",
        "\n",
        "3. **Iterative Editing**:\n",
        "    - The output image (B) was used as the input for the next editing cycle with a new prompt.\n",
        "    - The combination of GIFs generated during each iteration was used to create a video with the movement prompts.\n",
        "\n",
        "Below is an example command to process an image with a specific prompt:"
      ],
      "metadata": {
        "id": "whQ4eP2mMrOz"
      }
    },
    {
      "cell_type": "code",
      "source": [
        "# Example command to process an image\n",
        "!aimg edit \"path/to/my/image.jpg\" --gif --prompt \"next movement: keeping the usual vigil beside the body\"\n"
      ],
      "metadata": {
        "id": "POfz06S9MH5Y"
      },
      "execution_count": null,
      "outputs": []
    },
    {
      "cell_type": "markdown",
      "source": [
        "## Troubleshooting\n",
        "\n",
        "I encountered issues related to system resources, specially memory errors, and followed these steps:\n",
        "\n",
        "1. **Closed unnecessary programs**:\n",
        "    - Ensure that no other resource-intensive applications are running.\n",
        "\n",
        "2. **Monitored system resources**:\n",
        "    - On Windows, used Task Manager to monitor CPU and RAM usage.\n",
        "    - On Mac, used Activity Monitor.\n",
        "\n",
        "3. **Terminated unnecessary processes**:\n",
        "    - Identified and terminated unnecessary processes that are consuming significant resources.\n",
        "\n",
        "Example: if you receive an error indicating insufficient CPU or GPU space, try closing background applications and re-running the command.\n"
      ],
      "metadata": {
        "id": "PFMAyQ4YMWKw"
      }
    },
    {
      "cell_type": "markdown",
      "source": [
        "### Example error and solution\n",
        "\n",
        "This was an error that appeared after generating each score:"
      ],
      "metadata": {
        "id": "z0f3yzciMcUO"
      }
    },
    {
      "cell_type": "code",
      "source": [
        "RuntimeError: Unable to make 4067.4 MB space on cpu.\n",
        "GPU cache: 0 items; 0.0 MB; Max: 15370.2 MB;\n",
        "CPU cache: 0 items; 0.0 MB; Max: 0.0 MB;\n",
        "mem_free_total: 3773.1 MB; Ram Free: 6288.6 MB;"
      ],
      "metadata": {
        "id": "S9yqFXFDVnxR"
      },
      "execution_count": null,
      "outputs": []
    },
    {
      "cell_type": "markdown",
      "source": [
        "\n",
        "In order to solve that:\n",
        "- Ensured that other applications are closed to free up memory.\n",
        "- Reduced the image resolution.\n",
        "- Restarted the computer after each image generation.\n"
      ],
      "metadata": {
        "id": "oCp9OFooMgzK"
      }
    },
    {
      "cell_type": "markdown",
      "source": [
        "### References and additional resources\n",
        "\n",
        "For more information on Imaginairy and InstructPix2Pix, refer to the official documentation and GitHub repository:\n",
        "- [Imaginairy Documentation](https://github.com/brycedrennan/imaginAIry)\n",
        "- [InstructPix2Pix Repository](https://github.com/timothybrooks/instruct-pix2pix)\n"
      ],
      "metadata": {
        "id": "RqwOhuw9MjDU"
      }
    },
    {
      "cell_type": "markdown",
      "source": [
        "## Conclusion\n",
        "\n",
        "In this notebook, I've walked you through the process of using InstructPix2Pix with Imaginairy to edit images based on text prompts. We've covered installation, image editing, iterative editing, and troubleshooting common issues. This approach can be used to create a series of edited images and GIFs, and combining them into a video for presentation purposes.\n"
      ],
      "metadata": {
        "id": "NDhTzftlMm0r"
      }
    }
  ]
}